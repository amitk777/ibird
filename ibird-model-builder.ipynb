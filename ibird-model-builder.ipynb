{
 "cells": [
  {
   "cell_type": "code",
   "execution_count": null,
   "id": "91a48bf1",
   "metadata": {
    "ExecuteTime": {
     "end_time": "2023-06-20T08:39:53.351242Z",
     "start_time": "2023-06-20T08:39:45.896385Z"
    }
   },
   "outputs": [],
   "source": [
    "from fastbook import *"
   ]
  },
  {
   "cell_type": "code",
   "execution_count": null,
   "id": "f02e6941",
   "metadata": {
    "ExecuteTime": {
     "end_time": "2023-06-20T14:42:05.201799Z",
     "start_time": "2023-06-20T14:42:02.786586Z"
    },
    "scrolled": false
   },
   "outputs": [],
   "source": [
    "path = Path('D:/ibirds/')\n",
    "print(path)\n",
    "\n",
    "fns = get_image_files(path)\n",
    "\n",
    "failed = verify_images(fns)\n",
    "failed"
   ]
  },
  {
   "cell_type": "code",
   "execution_count": null,
   "id": "ad128f0d",
   "metadata": {
    "ExecuteTime": {
     "end_time": "2023-06-20T08:47:07.578126Z",
     "start_time": "2023-06-20T08:47:05.464638Z"
    },
    "scrolled": false
   },
   "outputs": [],
   "source": [
    "birds = DataBlock(\n",
    "    blocks=(ImageBlock, CategoryBlock), \n",
    "    get_items=get_image_files, \n",
    "    splitter=RandomSplitter(valid_pct=0.2, seed=42),\n",
    "    get_y=parent_label,\n",
    "    item_tfms=Resize(128))"
   ]
  },
  {
   "cell_type": "code",
   "execution_count": null,
   "id": "04a217d1",
   "metadata": {},
   "outputs": [],
   "source": [
    "print(path.name)  # prints \"file.txt\"\n",
    "print(path.parent)  # prints \"C:\\path\\to\"\n",
    "print(path.suffix)  # prints \".txt\"\n",
    "\n",
    "if path.exists():\n",
    "    print(\"File exists!\")\n",
    "else:\n",
    "    print(\"File does not exist!\")"
   ]
  },
  {
   "cell_type": "code",
   "execution_count": null,
   "id": "4c0cc63b",
   "metadata": {
    "ExecuteTime": {
     "end_time": "2023-06-20T08:43:32.704051Z",
     "start_time": "2023-06-20T08:43:32.623704Z"
    }
   },
   "outputs": [],
   "source": [
    "dls = birds.dataloaders(path)\n",
    "\n",
    "dls.valid.show_batch(max_n=4, nrows=1)"
   ]
  },
  {
   "cell_type": "code",
   "execution_count": null,
   "id": "1f056b9e",
   "metadata": {},
   "outputs": [],
   "source": [
    "birds = birds.new(item_tfms=Resize(128, ResizeMethod.Squish))\n",
    "dls = birds.dataloaders(path)\n",
    "dls.valid.show_batch(max_n=4, nrows=1)"
   ]
  },
  {
   "cell_type": "code",
   "execution_count": null,
   "id": "07b3b7f6",
   "metadata": {},
   "outputs": [],
   "source": [
    "birds = birds.new(item_tfms=Resize(128, ResizeMethod.Pad, pad_mode='zeros'))\n",
    "dls = birds.dataloaders(path)\n",
    "dls.valid.show_batch(max_n=4, nrows=1)"
   ]
  },
  {
   "cell_type": "code",
   "execution_count": null,
   "id": "3235c931",
   "metadata": {},
   "outputs": [],
   "source": [
    "birds = birds.new(item_tfms=RandomResizedCrop(128, min_scale=0.3))\n",
    "dls = birds.dataloaders(path)\n",
    "dls.train.show_batch(max_n=4, nrows=1, unique=True)"
   ]
  },
  {
   "cell_type": "code",
   "execution_count": null,
   "id": "f23077b8",
   "metadata": {},
   "outputs": [],
   "source": [
    "birds = birds.new(\n",
    "    item_tfms=RandomResizedCrop(224, min_scale=0.5),\n",
    "    batch_tfms=aug_transforms())\n",
    "dls = birds.dataloaders(path)"
   ]
  },
  {
   "cell_type": "code",
   "execution_count": null,
   "id": "f380b522",
   "metadata": {},
   "outputs": [],
   "source": [
    "learn = vision_learner(dls, resnet18, metrics=error_rate)\n",
    "learn.fine_tune(4)"
   ]
  },
  {
   "cell_type": "code",
   "execution_count": null,
   "id": "bc618340",
   "metadata": {},
   "outputs": [],
   "source": [
    "interp = ClassificationInterpretation.from_learner(learn)\n",
    "interp.plot_confusion_matrix()"
   ]
  }
 ],
 "metadata": {
  "kernelspec": {
   "display_name": "Python 3 (ipykernel)",
   "language": "python",
   "name": "python3"
  },
  "language_info": {
   "codemirror_mode": {
    "name": "ipython",
    "version": 3
   },
   "file_extension": ".py",
   "mimetype": "text/x-python",
   "name": "python",
   "nbconvert_exporter": "python",
   "pygments_lexer": "ipython3",
   "version": "3.9.13"
  },
  "toc": {
   "base_numbering": 1,
   "nav_menu": {},
   "number_sections": true,
   "sideBar": true,
   "skip_h1_title": false,
   "title_cell": "Table of Contents",
   "title_sidebar": "Contents",
   "toc_cell": false,
   "toc_position": {},
   "toc_section_display": true,
   "toc_window_display": false
  },
  "varInspector": {
   "cols": {
    "lenName": 16,
    "lenType": 16,
    "lenVar": 40
   },
   "kernels_config": {
    "python": {
     "delete_cmd_postfix": "",
     "delete_cmd_prefix": "del ",
     "library": "var_list.py",
     "varRefreshCmd": "print(var_dic_list())"
    },
    "r": {
     "delete_cmd_postfix": ") ",
     "delete_cmd_prefix": "rm(",
     "library": "var_list.r",
     "varRefreshCmd": "cat(var_dic_list()) "
    }
   },
   "position": {
    "height": "144.45px",
    "left": "1149.2px",
    "right": "20px",
    "top": "121px",
    "width": "350px"
   },
   "types_to_exclude": [
    "module",
    "function",
    "builtin_function_or_method",
    "instance",
    "_Feature"
   ],
   "window_display": true
  }
 },
 "nbformat": 4,
 "nbformat_minor": 5
}
