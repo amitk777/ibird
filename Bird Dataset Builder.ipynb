{
 "cells": [
  {
   "attachments": {},
   "cell_type": "markdown",
   "id": "e0c801d8",
   "metadata": {},
   "source": [
    "# This is bird dataset builder\n",
    "    ## Amit"
   ]
  },
  {
   "cell_type": "code",
   "execution_count": null,
   "id": "0418e0fc",
   "metadata": {
    "ExecuteTime": {
     "end_time": "2023-06-16T03:17:14.768083Z",
     "start_time": "2023-06-16T03:17:14.752374Z"
    }
   },
   "outputs": [],
   "source": [
    "import csv\n",
    "rows = []\n",
    "with open(\"ibird.csv\", 'r') as file:\n",
    "    csvreader = csv.reader(file)\n",
    "    header = next(csvreader)\n",
    "    for row in csvreader:\n",
    "        rows.append(row)\n",
    "print(rows)"
   ]
  },
  {
   "cell_type": "code",
   "execution_count": null,
   "id": "c0bdd226",
   "metadata": {
    "ExecuteTime": {
     "end_time": "2023-06-15T13:28:03.803879Z",
     "start_time": "2023-06-15T13:28:03.790627Z"
    }
   },
   "outputs": [],
   "source": [
    "from duckduckgo_search import DDGS\n",
    "from fastcore.all import *\n",
    "from fastbook import *\n",
    "\n",
    "def search_images(term, max_images=30):\n",
    "    print(f\"Searching for '{term}'\")\n",
    "#     return L(ddg_images(term, max_results=max_images)).itemgot('image')\n",
    "    return search_images_ddg(term,max_images)\n"
   ]
  },
  {
   "cell_type": "code",
   "execution_count": null,
   "id": "b0bffd23",
   "metadata": {
    "ExecuteTime": {
     "end_time": "2023-06-15T13:28:06.459772Z",
     "start_time": "2023-06-15T13:28:03.806554Z"
    }
   },
   "outputs": [],
   "source": [
    "urls = search_images('bird photos', max_images=1)\n",
    "urls[0]"
   ]
  },
  {
   "cell_type": "code",
   "execution_count": null,
   "id": "a4d7dfa7",
   "metadata": {
    "ExecuteTime": {
     "end_time": "2023-06-15T13:28:07.011353Z",
     "start_time": "2023-06-15T13:28:06.461159Z"
    }
   },
   "outputs": [],
   "source": [
    "from fastdownload import download_url\n",
    "dest = 'bird.jpg'\n",
    "download_url(urls[0], dest, show_progress=False)\n",
    "\n",
    "from fastai.vision.all import *\n",
    "im = Image.open(dest)\n",
    "im.to_thumb(256,256)"
   ]
  },
  {
   "cell_type": "code",
   "execution_count": null,
   "id": "996cbb8c",
   "metadata": {
    "ExecuteTime": {
     "end_time": "2023-06-16T09:14:52.921778Z",
     "start_time": "2023-06-16T05:26:48.516509Z"
    }
   },
   "outputs": [],
   "source": [
    "# searches = 'Haliastur indus','Abroscopus albogularis'\n",
    "dpath = Path('indian_birds')\n",
    "from time import sleep\n",
    "dpath.mkdir(exist_ok=True, parents=True)\n",
    "\n",
    "import csv\n",
    "rows = []\n",
    "with open(\"ibird.csv\", 'r') as file:\n",
    "    csvreader = csv.reader(file)\n",
    "    header = next(csvreader)\n",
    "    print(type(csvreader))\n",
    "    for row in csvreader:\n",
    "        dest = Path('.'+'/'+row[0])\n",
    "        download_images(dest, urls=search_images(f'{row[0]}',30))\n",
    "        sleep(10)\n"
   ]
  },
  {
   "cell_type": "code",
   "execution_count": null,
   "id": "ca369490",
   "metadata": {},
   "outputs": [],
   "source": [
    "from fastbook import *\n",
    "from fastai.vision.widgets import *\n",
    "from pathlib import Path\n",
    "\n",
    "import os\n",
    "\n",
    "def remove_unopenable_files(directory):\n",
    "    filelist = L()\n",
    "    for root, dirs, files in os.walk(directory):\n",
    "        for file_name in files:\n",
    "            file_path = os.path.join(root, file_name)\n",
    "            path = Path(file_path)\n",
    "            try:\n",
    "                im = Image.open(file_path)\n",
    "                im.draft(im.mode, (32,32)) # can be removed ? \n",
    "                im.load() # can be removed ? \n",
    "                im.close()\n",
    "            except Exception as e :\n",
    "                print(f\"Removing unopenable file: {file_path}\")\n",
    "                im.close()\n",
    "                path.unlink()\n",
    "                filelist.append(Path(file_path))\n",
    "                error_message = f\"An exception occurred: {type(e).__name__}: {str(e)}\"\n",
    "                print(error_message)\n",
    "    return filelist\n",
    "\n",
    "# Usage\n",
    "directory_path = 'd:/ibirds/'\n",
    "flist = remove_unopenable_files(directory_path)\n",
    "# flist.map(Path.unlink)\n"
   ]
  },
  {
   "cell_type": "code",
   "execution_count": null,
   "id": "11f2d5fc",
   "metadata": {
    "ExecuteTime": {
     "end_time": "2023-06-16T01:15:23.260523Z",
     "start_time": "2023-06-16T01:15:23.248454Z"
    }
   },
   "outputs": [],
   "source": [
    "fns = get_image_files(dpath)"
   ]
  },
  {
   "cell_type": "code",
   "execution_count": null,
   "id": "6a8861fe",
   "metadata": {
    "ExecuteTime": {
     "end_time": "2023-06-16T01:14:59.177337Z",
     "start_time": "2023-06-16T01:14:57.860769Z"
    }
   },
   "outputs": [],
   "source": [
    "for fn in fns:\n",
    "    passed = verify_image(fn)\n",
    "    if not passed:\n",
    "        os.unlink(fn)"
   ]
  },
  {
   "cell_type": "code",
   "execution_count": null,
   "id": "e4ed7d7b",
   "metadata": {
    "ExecuteTime": {
     "end_time": "2023-06-16T04:12:24.542766Z",
     "start_time": "2023-06-16T04:12:24.421087Z"
    }
   },
   "outputs": [],
   "source": [
    "??Path"
   ]
  }
 ],
 "metadata": {
  "kernelspec": {
   "display_name": "Python 3 (ipykernel)",
   "language": "python",
   "name": "python3"
  },
  "language_info": {
   "codemirror_mode": {
    "name": "ipython",
    "version": 3
   },
   "file_extension": ".py",
   "mimetype": "text/x-python",
   "name": "python",
   "nbconvert_exporter": "python",
   "pygments_lexer": "ipython3",
   "version": "3.9.13"
  },
  "toc": {
   "base_numbering": 1,
   "nav_menu": {},
   "number_sections": true,
   "sideBar": true,
   "skip_h1_title": false,
   "title_cell": "Table of Contents",
   "title_sidebar": "Contents",
   "toc_cell": false,
   "toc_position": {},
   "toc_section_display": true,
   "toc_window_display": false
  },
  "varInspector": {
   "cols": {
    "lenName": 16,
    "lenType": 16,
    "lenVar": 40
   },
   "kernels_config": {
    "python": {
     "delete_cmd_postfix": "",
     "delete_cmd_prefix": "del ",
     "library": "var_list.py",
     "varRefreshCmd": "print(var_dic_list())"
    },
    "r": {
     "delete_cmd_postfix": ") ",
     "delete_cmd_prefix": "rm(",
     "library": "var_list.r",
     "varRefreshCmd": "cat(var_dic_list()) "
    }
   },
   "types_to_exclude": [
    "module",
    "function",
    "builtin_function_or_method",
    "instance",
    "_Feature"
   ],
   "window_display": true
  }
 },
 "nbformat": 4,
 "nbformat_minor": 5
}
